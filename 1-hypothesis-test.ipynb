{
 "cells": [
  {
   "cell_type": "code",
   "execution_count": 3,
   "metadata": {},
   "outputs": [],
   "source": [
    "import numpy as np"
   ]
  },
  {
   "cell_type": "code",
   "execution_count": 6,
   "metadata": {},
   "outputs": [
    {
     "name": "stdout",
     "output_type": "stream",
     "text": [
      "The Z-score for a probability of 0.005 is approximately -2.5758\n",
      "The Z-score for a probability of 0.995 is approximately 2.5758\n"
     ]
    }
   ],
   "source": [
    "from scipy.stats import norm\n",
    "\n",
    "probability = 0.005\n",
    "z_score = norm.ppf(probability)\n",
    "\n",
    "print(f\"The Z-score for a probability of {probability} is approximately {z_score:.4f}\")\n",
    "\n",
    "probability = 1 - 0.005\n",
    "z_score = norm.ppf(probability)\n",
    "\n",
    "print(f\"The Z-score for a probability of {probability} is approximately {z_score:.4f}\")\n"
   ]
  },
  {
   "cell_type": "code",
   "execution_count": 5,
   "metadata": {},
   "outputs": [
    {
     "name": "stdout",
     "output_type": "stream",
     "text": [
      "-1.903749026271474\n"
     ]
    }
   ],
   "source": [
    "z_obs = (1.3 - 2) / (2.6 / np.sqrt(50))\n",
    "print(z_obs)"
   ]
  },
  {
   "cell_type": "code",
   "execution_count": 7,
   "metadata": {},
   "outputs": [
    {
     "data": {
      "text/plain": [
       "-1.6448536269514729"
      ]
     },
     "execution_count": 7,
     "metadata": {},
     "output_type": "execute_result"
    }
   ],
   "source": [
    "norm.ppf(0.05)"
   ]
  },
  {
   "cell_type": "code",
   "execution_count": 12,
   "metadata": {},
   "outputs": [
    {
     "data": {
      "text/plain": [
       "-1.9599639845400545"
      ]
     },
     "execution_count": 12,
     "metadata": {},
     "output_type": "execute_result"
    }
   ],
   "source": [
    "norm.ppf(0.025)"
   ]
  },
  {
   "cell_type": "code",
   "execution_count": 10,
   "metadata": {},
   "outputs": [],
   "source": [
    "from scipy.stats import t\n",
    "import numpy as np\n",
    "\n",
    "# Given data\n",
    "x_bar = 2.4  # Sample mean\n",
    "mu_0 = 2.3  # Hypothesized population mean\n",
    "s = 0.29  # Sample standard deviation\n",
    "n = 35  # Sample size\n",
    "alpha = 0.05  # Significance level\n",
    "\n",
    "# Calculating the t-score\n",
    "t_score = (x_bar - mu_0) / (s / np.sqrt(n))\n"
   ]
  },
  {
   "cell_type": "code",
   "execution_count": 11,
   "metadata": {},
   "outputs": [
    {
     "data": {
      "text/plain": [
       "(2.040027511413663, 1.6909242507706543)"
      ]
     },
     "execution_count": 11,
     "metadata": {},
     "output_type": "execute_result"
    }
   ],
   "source": [
    "\n",
    "# Degrees of freedom\n",
    "df = n - 1\n",
    "\n",
    "# Finding the critical t-value for a one-tailed test\n",
    "critical_t = t.ppf(1 - alpha, df)\n",
    "\n",
    "t_score, critical_t\n"
   ]
  },
  {
   "cell_type": "code",
   "execution_count": 15,
   "metadata": {},
   "outputs": [
    {
     "name": "stdout",
     "output_type": "stream",
     "text": [
      "-3.7499999999999645\n"
     ]
    }
   ],
   "source": [
    "x_bar = 79.7\n",
    "mu_0 = 80\n",
    "n = 100\n",
    "s = 0.8\n",
    "alpha = 0.025\n",
    "z_obs = (x_bar - mu_0) / (s / np.sqrt(n))\n",
    "print(z_obs)"
   ]
  },
  {
   "cell_type": "code",
   "execution_count": null,
   "metadata": {},
   "outputs": [],
   "source": []
  }
 ],
 "metadata": {
  "kernelspec": {
   "display_name": "1danalysis",
   "language": "python",
   "name": "python3"
  },
  "language_info": {
   "codemirror_mode": {
    "name": "ipython",
    "version": 3
   },
   "file_extension": ".py",
   "mimetype": "text/x-python",
   "name": "python",
   "nbconvert_exporter": "python",
   "pygments_lexer": "ipython3",
   "version": "3.9.16"
  },
  "orig_nbformat": 4
 },
 "nbformat": 4,
 "nbformat_minor": 2
}
