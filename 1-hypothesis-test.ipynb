{
 "cells": [
  {
   "cell_type": "code",
   "execution_count": 1,
   "metadata": {},
   "outputs": [],
   "source": [
    "import numpy as np\n",
    "from scipy.stats import norm"
   ]
  },
  {
   "cell_type": "markdown",
   "metadata": {},
   "source": [
    "### 1. "
   ]
  },
  {
   "cell_type": "code",
   "execution_count": 3,
   "metadata": {},
   "outputs": [
    {
     "name": "stdout",
     "output_type": "stream",
     "text": [
      "The Z-score for a probability of 0.005 is approximately -2.5758\n",
      "The Z-score for a probability of 0.995 is approximately 2.5758\n"
     ]
    }
   ],
   "source": [
    "\n",
    "\n",
    "probability = 0.005\n",
    "z_score = norm.ppf(probability)\n",
    "\n",
    "print(f\"The Z-score for a probability of {probability} is approximately {z_score:.4f}\")\n",
    "\n",
    "probability = 1 - 0.005\n",
    "z_score = norm.ppf(probability)\n",
    "\n",
    "print(f\"The Z-score for a probability of {probability} is approximately {z_score:.4f}\")\n"
   ]
  },
  {
   "cell_type": "markdown",
   "metadata": {},
   "source": [
    "### 2. "
   ]
  },
  {
   "cell_type": "code",
   "execution_count": 5,
   "metadata": {},
   "outputs": [
    {
     "name": "stdout",
     "output_type": "stream",
     "text": [
      "-1.903749026271474\n"
     ]
    }
   ],
   "source": [
    "z_obs = (1.3 - 2) / (2.6 / np.sqrt(50))\n",
    "print(z_obs)"
   ]
  },
  {
   "cell_type": "code",
   "execution_count": 7,
   "metadata": {},
   "outputs": [
    {
     "data": {
      "text/plain": [
       "-1.6448536269514729"
      ]
     },
     "execution_count": 7,
     "metadata": {},
     "output_type": "execute_result"
    }
   ],
   "source": [
    "norm.ppf(0.05)"
   ]
  },
  {
   "cell_type": "code",
   "execution_count": 12,
   "metadata": {},
   "outputs": [
    {
     "data": {
      "text/plain": [
       "-1.9599639845400545"
      ]
     },
     "execution_count": 12,
     "metadata": {},
     "output_type": "execute_result"
    }
   ],
   "source": [
    "norm.ppf(0.025)"
   ]
  },
  {
   "cell_type": "code",
   "execution_count": 10,
   "metadata": {},
   "outputs": [],
   "source": [
    "from scipy.stats import t\n",
    "import numpy as np\n",
    "\n",
    "# Given data\n",
    "x_bar = 2.4  # Sample mean\n",
    "mu_0 = 2.3  # Hypothesized population mean\n",
    "s = 0.29  # Sample standard deviation\n",
    "n = 35  # Sample size\n",
    "alpha = 0.05  # Significance level\n",
    "\n",
    "# Calculating the t-score\n",
    "t_score = (x_bar - mu_0) / (s / np.sqrt(n))\n"
   ]
  },
  {
   "cell_type": "code",
   "execution_count": 11,
   "metadata": {},
   "outputs": [
    {
     "data": {
      "text/plain": [
       "(2.040027511413663, 1.6909242507706543)"
      ]
     },
     "execution_count": 11,
     "metadata": {},
     "output_type": "execute_result"
    }
   ],
   "source": [
    "\n",
    "# Degrees of freedom\n",
    "df = n - 1\n",
    "\n",
    "# Finding the critical t-value for a one-tailed test\n",
    "critical_t = t.ppf(1 - alpha, df)\n",
    "\n",
    "t_score, critical_t\n"
   ]
  },
  {
   "cell_type": "markdown",
   "metadata": {},
   "source": [
    "### 3."
   ]
  },
  {
   "cell_type": "code",
   "execution_count": 4,
   "metadata": {},
   "outputs": [
    {
     "name": "stdout",
     "output_type": "stream",
     "text": [
      "-3.7499999999999645\n"
     ]
    }
   ],
   "source": [
    "x_bar = 79.7\n",
    "mu_0 = 80\n",
    "n = 100\n",
    "s = 0.8\n",
    "alpha = 0.025\n",
    "z_obs = (x_bar - mu_0) / (s / np.sqrt(n))\n",
    "print(z_obs)"
   ]
  },
  {
   "cell_type": "markdown",
   "metadata": {},
   "source": [
    "### 4."
   ]
  },
  {
   "cell_type": "code",
   "execution_count": 5,
   "metadata": {},
   "outputs": [],
   "source": [
    "x = [103.768, 92.295, 100.615, 102.754, 88.602, 61.675, 88.017, 108.579, 73.003, 90.677, 71.210, 73.154, 123.086, 84.023, 82.115, 106.755, 91.052, 76.014, 89.222, 90.479]"
   ]
  },
  {
   "cell_type": "code",
   "execution_count": 12,
   "metadata": {},
   "outputs": [],
   "source": [
    "x_bar = np.mean(x)\n",
    "mu_0 = 100\n",
    "n = len(x)\n",
    "s = np.std(x, ddof=1)"
   ]
  },
  {
   "cell_type": "code",
   "execution_count": 13,
   "metadata": {},
   "outputs": [
    {
     "name": "stdout",
     "output_type": "stream",
     "text": [
      "2.539483190622288\n"
     ]
    }
   ],
   "source": [
    "alpha=0.01\n",
    "# Degrees of freedom\n",
    "df = n - 1\n",
    "\n",
    "# Finding the critical t-value for a one-tailed test\n",
    "critical_t = t.ppf(1 - alpha, df)\n",
    "print(critical_t)"
   ]
  },
  {
   "cell_type": "code",
   "execution_count": 14,
   "metadata": {},
   "outputs": [
    {
     "name": "stdout",
     "output_type": "stream",
     "text": [
      "-3.0443091128687287\n"
     ]
    }
   ],
   "source": [
    "t_score = (x_bar - mu_0) / (s / np.sqrt(n))\n",
    "print(t_score)"
   ]
  },
  {
   "cell_type": "markdown",
   "metadata": {},
   "source": [
    "### 5."
   ]
  },
  {
   "cell_type": "code",
   "execution_count": 34,
   "metadata": {},
   "outputs": [
    {
     "name": "stdout",
     "output_type": "stream",
     "text": [
      "2.602480294995493\n"
     ]
    }
   ],
   "source": [
    "df = 15\n",
    "alpha = 0.01\n",
    "critical_t = t.ppf(1- alpha, df)\n",
    "print(critical_t)"
   ]
  },
  {
   "cell_type": "code",
   "execution_count": 24,
   "metadata": {},
   "outputs": [
    {
     "name": "stdout",
     "output_type": "stream",
     "text": [
      "0.6024802949954928\n",
      "0.7220731301416176\n",
      "Power is 0.278\n"
     ]
    }
   ],
   "source": [
    "mu_0 = 100\n",
    "mu_a = 108\n",
    "n = 16\n",
    "s = 16\n",
    "\n",
    "t_score = (mu_0 - mu_a) / (s / np.sqrt(n)) + critical_t\n",
    "print(t_score)\n",
    "\n",
    "beta = t.cdf(t_score, df)\n",
    "print(beta)\n",
    "print(f'Power is {1 - beta:.3f}')"
   ]
  },
  {
   "cell_type": "code",
   "execution_count": 25,
   "metadata": {},
   "outputs": [],
   "source": [
    "def calc_power(mu_a):\n",
    "    df = 15\n",
    "    alpha = 0.01\n",
    "    critical_t = t.ppf(1- alpha, df)\n",
    "    mu_0 = 100\n",
    "    n = 16\n",
    "    s = 16\n",
    "\n",
    "    t_score = (mu_0 - mu_a) / (s / np.sqrt(n)) + critical_t\n",
    "    print(t_score)\n",
    "\n",
    "    beta = t.cdf(t_score, df)\n",
    "    print(beta)\n",
    "    print(f'Power is {1 - beta:.3f}')\n",
    "    \n",
    "    return 1 - beta"
   ]
  },
  {
   "cell_type": "code",
   "execution_count": 26,
   "metadata": {},
   "outputs": [
    {
     "name": "stdout",
     "output_type": "stream",
     "text": [
      "-0.3975197050045072\n",
      "0.3482918928052724\n",
      "Power is 0.652\n"
     ]
    },
    {
     "data": {
      "text/plain": [
       "0.6517081071947276"
      ]
     },
     "execution_count": 26,
     "metadata": {},
     "output_type": "execute_result"
    }
   ],
   "source": [
    "calc_power(112)"
   ]
  },
  {
   "cell_type": "code",
   "execution_count": 27,
   "metadata": {},
   "outputs": [
    {
     "name": "stdout",
     "output_type": "stream",
     "text": [
      "-1.3975197050045072\n",
      "0.0912929752661666\n",
      "Power is 0.909\n"
     ]
    },
    {
     "data": {
      "text/plain": [
       "0.9087070247338334"
      ]
     },
     "execution_count": 27,
     "metadata": {},
     "output_type": "execute_result"
    }
   ],
   "source": [
    "calc_power(116)"
   ]
  },
  {
   "cell_type": "code",
   "execution_count": 28,
   "metadata": {},
   "outputs": [
    {
     "name": "stdout",
     "output_type": "stream",
     "text": [
      "2.602480294995493\n",
      "0.9899999999996888\n",
      "Power is 0.010\n",
      "2.352480294995493\n",
      "0.9836399947013839\n",
      "Power is 0.016\n",
      "2.102480294995493\n",
      "0.9735959023912326\n",
      "Power is 0.026\n",
      "1.8524802949954928\n",
      "0.958131566542057\n",
      "Power is 0.042\n",
      "1.6024802949954928\n",
      "0.9350528682375366\n",
      "Power is 0.065\n",
      "1.3524802949954928\n",
      "0.9018699638970213\n",
      "Power is 0.098\n",
      "1.1024802949954928\n",
      "0.8561859912749276\n",
      "Power is 0.144\n",
      "0.8524802949954928\n",
      "0.7963232412810126\n",
      "Power is 0.204\n",
      "0.6024802949954928\n",
      "0.7220731301416176\n",
      "Power is 0.278\n",
      "0.3524802949954928\n",
      "0.6353091136984199\n",
      "Power is 0.365\n",
      "0.10248029499549283\n",
      "0.5401335379389474\n",
      "Power is 0.460\n",
      "-0.14751970500450717\n",
      "0.4423432291344811\n",
      "Power is 0.558\n",
      "-0.3975197050045072\n",
      "0.3482918928052724\n",
      "Power is 0.652\n",
      "-0.6475197050045072\n",
      "0.2635412313219255\n",
      "Power is 0.736\n",
      "-0.8975197050045072\n",
      "0.19181072182722902\n",
      "Power is 0.808\n",
      "-1.1475197050045072\n",
      "0.1345702555782445\n",
      "Power is 0.865\n",
      "-1.3975197050045072\n",
      "0.0912929752661666\n",
      "Power is 0.909\n",
      "-1.6475197050045072\n",
      "0.06011716007003062\n",
      "Power is 0.940\n",
      "-1.8975197050045072\n",
      "0.03858922070860771\n",
      "Power is 0.961\n",
      "-2.147519705004507\n",
      "0.024251140163467057\n",
      "Power is 0.976\n"
     ]
    }
   ],
   "source": [
    "powers = []\n",
    "for i in range(100, 120):\n",
    "    powers.append(calc_power(i))"
   ]
  },
  {
   "cell_type": "code",
   "execution_count": 50,
   "metadata": {},
   "outputs": [],
   "source": [
    "from pathlib import Path\n",
    "fig_dir = Path('figs/1-hypothesis-testing')\n",
    "fig_dir.mkdir(parents=True, exist_ok=True)"
   ]
  },
  {
   "cell_type": "code",
   "execution_count": 51,
   "metadata": {},
   "outputs": [
    {
     "data": {
      "image/png": "[encoded data removed]",
      "text/plain": [
       "<Figure size 640x480 with 1 Axes>"
      ]
     },
     "metadata": {},
     "output_type": "display_data"
    }
   ],
   "source": [
    "import matplotlib.pyplot as plt\n",
    "%matplotlib inline\n",
    "plt.plot(range(100, 120), powers)\n",
    "plt.plot(range(100, 120), powers, '.', color='darkblue')\n",
    "plt.xticks([100, 105, 110, 115, 120])\n",
    "plt.savefig(fig_dir / 'power_curve.png', dpi=300)"
   ]
  },
  {
   "cell_type": "code",
   "execution_count": 37,
   "metadata": {},
   "outputs": [],
   "source": [
    "def calc_power_v2(mu_a, alpha=0.01):\n",
    "    \n",
    "    mu_0 = 100\n",
    "    n = 16\n",
    "    df = n - 1\n",
    "    s = 16\n",
    "    \n",
    "    critical_t = t.ppf(1- alpha, df)\n",
    "\n",
    "    t_score = (mu_0 - mu_a) / (s / np.sqrt(n)) + critical_t\n",
    "    beta = t.cdf(t_score, df)\n",
    "    power = 1 - beta    \n",
    "    return power"
   ]
  },
  {
   "cell_type": "code",
   "execution_count": 52,
   "metadata": {},
   "outputs": [
    {
     "data": {
      "image/png": "[encoded data removed]",
      "text/plain": [
       "<Figure size 640x480 with 1 Axes>"
      ]
     },
     "metadata": {},
     "output_type": "display_data"
    }
   ],
   "source": [
    "powers_001 = []\n",
    "powers_005 = []\n",
    "for i in range(100, 120):\n",
    "    powers_001.append(calc_power_v2(i, 0.01))\n",
    "    powers_005.append(calc_power_v2(i, 0.05))\n",
    "plt.plot(range(100, 120), powers_001, label='alpha=0.01')\n",
    "plt.plot(range(100, 120), powers_001, '.', color='darkblue')\n",
    "plt.plot(range(100, 120), powers_005, label='alpha=0.05', color='darkorange')\n",
    "plt.plot(range(100, 120), powers_005, '.', color='darkorange')\n",
    "plt.xticks([100, 105, 110, 115, 120])\n",
    "plt.legend()\n",
    "plt.savefig(fig_dir / 'power_curve_alpha.png', dpi=300)"
   ]
  },
  {
   "cell_type": "code",
   "execution_count": 39,
   "metadata": {},
   "outputs": [],
   "source": [
    "def calc_power_v3(mu_a, alpha=0.01, n=16):\n",
    "    \n",
    "    mu_0 = 100\n",
    "    df = n - 1\n",
    "    s = 16\n",
    "    \n",
    "    critical_t = t.ppf(1- alpha, df)\n",
    "\n",
    "    t_score = (mu_0 - mu_a) / (s / np.sqrt(n)) + critical_t\n",
    "    beta = t.cdf(t_score, df)\n",
    "    power = 1 - beta    \n",
    "    return power"
   ]
  },
  {
   "cell_type": "code",
   "execution_count": 53,
   "metadata": {},
   "outputs": [
    {
     "data": {
      "image/png": "[encoded data removed]",
      "text/plain": [
       "<Figure size 640x480 with 1 Axes>"
      ]
     },
     "metadata": {},
     "output_type": "display_data"
    }
   ],
   "source": [
    "powers_16 = []\n",
    "powers_65 = []\n",
    "for i in range(100, 120):\n",
    "    powers_16.append(calc_power_v3(i, 0.05, 16))\n",
    "    powers_65.append(calc_power_v3(i, 0.05, 65))\n",
    "plt.plot(range(100, 120), powers_16, label='n=16, alpha=0.05')\n",
    "plt.plot(range(100, 120), powers_16, '.', color='darkblue')\n",
    "plt.plot(range(100, 120), powers_65, label='n=65, alpha=0.05', color='darkorange')\n",
    "plt.plot(range(100, 120), powers_65, '.', color='darkorange')\n",
    "plt.xticks([100, 105, 110, 115, 120])\n",
    "plt.legend()\n",
    "plt.savefig(fig_dir / 'power_curve_n.png', dpi=300)"
   ]
  },
  {
   "cell_type": "code",
   "execution_count": 46,
   "metadata": {},
   "outputs": [],
   "source": [
    "z_alpha = norm.ppf(1 - 0.05)"
   ]
  },
  {
   "cell_type": "code",
   "execution_count": 47,
   "metadata": {},
   "outputs": [],
   "source": [
    "z_beta = norm.ppf(1 - 0.2)"
   ]
  },
  {
   "cell_type": "code",
   "execution_count": 48,
   "metadata": {},
   "outputs": [],
   "source": [
    "n = (16 / 12 * (z_alpha + z_beta))**2"
   ]
  },
  {
   "cell_type": "code",
   "execution_count": 49,
   "metadata": {},
   "outputs": [
    {
     "name": "stdout",
     "output_type": "stream",
     "text": [
      "10.991212856924026\n"
     ]
    }
   ],
   "source": [
    "print(n)"
   ]
  },
  {
   "cell_type": "code",
   "execution_count": null,
   "metadata": {},
   "outputs": [],
   "source": []
  }
 ],
 "metadata": {
  "kernelspec": {
   "display_name": "1danalysis",
   "language": "python",
   "name": "python3"
  },
  "language_info": {
   "codemirror_mode": {
    "name": "ipython",
    "version": 3
   },
   "file_extension": ".py",
   "mimetype": "text/x-python",
   "name": "python",
   "nbconvert_exporter": "python",
   "pygments_lexer": "ipython3",
   "version": "3.8.10"
  },
  "orig_nbformat": 4
 },
 "nbformat": 4,
 "nbformat_minor": 2
}
